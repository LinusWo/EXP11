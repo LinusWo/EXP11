{
 "cells": [
  {
   "cell_type": "markdown",
   "id": "30ad48d9",
   "metadata": {},
   "source": [
    "### Setttings and modules"
   ]
  },
  {
   "cell_type": "code",
   "execution_count": 1,
   "id": "af6385d1",
   "metadata": {},
   "outputs": [],
   "source": [
    "import os\n",
    "import itertools\n",
    "\n",
    "import matplotlib.pyplot as plt\n",
    "import matplotlib\n",
    "import numpy as np\n",
    "from scipy import stats\n",
    "from scipy import optimize\n",
    "import sympy"
   ]
  },
  {
   "cell_type": "code",
   "execution_count": 2,
   "id": "fd2ec9c8",
   "metadata": {},
   "outputs": [],
   "source": [
    "# matplotlib settings\n",
    "fit_style = dict(linestyle=\"-\", color=\"darkgreen\", linewidth=1)\n",
    "marker_style = dict(linestyle=\"\", marker=\"o\", markersize=7, markerfacecolor=\"mediumblue\",\n",
    "                    markeredgewidth=1, markeredgecolor=\"firebrick\")\n",
    "error_style = dict(ecolor=\"red\", elinewidth=2, capsize=5)\n",
    "\n",
    "font_style = {'family' : 'Arial',\n",
    "              'weight' : 'normal',\n",
    "              'size'   : 15}\n",
    "matplotlib.rc(\"font\", **font_style)"
   ]
  },
  {
   "cell_type": "code",
   "execution_count": null,
   "id": "0fdd19ba",
   "metadata": {},
   "outputs": [],
   "source": [
    "# path to data\n",
    "path_data = \"../data/\"\n",
    "path_thickness_variation = path_data + \"measurements/density_variation/\""
   ]
  },
  {
   "cell_type": "code",
   "execution_count": null,
   "id": "d3d27a69",
   "metadata": {},
   "outputs": [],
   "source": [
    "def get_chi_squared(exp, obs, error, fit_params):\n",
    "    dof = exp.size - fit_params\n",
    "    chi_sq = np.sum(((obs - exp) / error) ** 2) / dof\n",
    "    return chi_sq, (1 - stats.chi2.cdf(chi_sq, dof))"
   ]
  },
  {
   "cell_type": "markdown",
   "id": "4882f20f",
   "metadata": {},
   "source": [
    "### Energy fit"
   ]
  },
  {
   "cell_type": "code",
   "execution_count": null,
   "id": "7d131dd9",
   "metadata": {},
   "outputs": [],
   "source": [
    "[y, x, stdev] = np.loadtxt(path_data + \"values_energy_cal.txt\", dtype=float).T\n",
    "\n",
    "result = stats.linregress(x,y)\n",
    "energy = lambda x: result.slope * x + result.intercept\n",
    "m = result.slope\n",
    "b = result.intercept\n",
    "r_2 = result.rvalue\n",
    "chi_2, p_val = stats.chisquare(y, f_exp=energy(x), ddof=1)\n",
    "m_err = result.stderr\n",
    "b_err = result.intercept_stderr"
   ]
  },
  {
   "cell_type": "code",
   "execution_count": null,
   "id": "c75a24be",
   "metadata": {},
   "outputs": [],
   "source": [
    "E_iron = 14.4\n",
    "E_err  = 0.1\n",
    "channel = (E_iron - b) / m\n",
    "channel_err = np.sqrt(((E_iron - b) * m_err/ m ** 2) ** 2 + (b_err / m) ** 2)\n",
    "print(f\"We estimate E(x)=m*x+b where\\nm=({m:.4F}+-{m_err:.4F})keV\\tb=({b:.4F}+-{b_err:.4F})keV\")\n",
    "print(f\"Iron57-Peak (14.4keV) at channel {channel}+-{channel_err:.3F}\\n\")\n",
    "print(f\"Correlation coefficient: R^2  = {r_2:.4F}\")\n",
    "print(f\"Chi-Squared value: Chi^2={chi_2:.4F} with p={p_val:.4F}\")\n",
    "\n",
    "plt.figure(figsize=(10,7))\n",
    "\n",
    "plt.errorbar(channel, E_iron, xerr=channel_err,\n",
    "             linestyle=\"\", marker=\"d\", markersize=9, markerfacecolor=\"lightgreen\",\n",
    "             markeredgewidth=1,**error_style, label=\"Energy peak $^{57}$Fe \")\n",
    "plt.errorbar(x, y, xerr=stdev,\n",
    "            **marker_style, **error_style, label=f\"Straight line fit $E_{{Fit}}(x)$\")\n",
    "plt.plot(np.linspace(0,550), energy(np.linspace(0,550)),\n",
    "         **fit_style, label=\"Observed energies $E_{Obs}(x)$\")\n",
    "\n",
    "plt.xlabel(\"Channel x\")\n",
    "plt.xlim(0,550)\n",
    "plt.ylabel(\"Energy E(x) (keV)\")\n",
    "plt.ylim(0,35)\n",
    "\n",
    "plt.legend(fancybox=True, loc=\"upper left\")\n",
    "plt.grid()\n",
    "plt.savefig('energy_fit.pdf', pad_inches=0.1, bbox_inches=\"tight\")\n",
    "plt.show()"
   ]
  },
  {
   "cell_type": "markdown",
   "id": "bbe80ff0",
   "metadata": {},
   "source": [
    "### FePO_4"
   ]
  },
  {
   "cell_type": "code",
   "execution_count": null,
   "id": "e2ecd3d6",
   "metadata": {},
   "outputs": [],
   "source": [
    "# constants\n",
    "c = 3e11 # mm/s\n",
    "e = 0.30282212088 \n",
    "e0= 14.413e3 # eV\n",
    "bohr_mag = 98.3585815e-8 # 1/eV\n",
    "muG = 0.090604 * bohr_mag # 1 / eV\n",
    "Q = 539 * 10 ** (-18) # 1 / eV^2\n",
    "iG = 1/2\n",
    "iA = 3/2\n",
    "# define relevant equations \n",
    "def energy_eq(v, mG, mA, qSign, muA, B, Vzz, Is):\n",
    "    return (muG * (mG / iG ) - muA * (mA / iA)) * B + qSign * e * Q * Vzz / 4 + Is - e0 * v / c"
   ]
  },
  {
   "cell_type": "code",
   "execution_count": null,
   "id": "23cc3985",
   "metadata": {},
   "outputs": [],
   "source": [
    "# define system of equations\n",
    "# parameters\n",
    "# positive velocity -> lower energy\n",
    "vs     =          [-1.6392 , -5.1666  , -8.4986  , 8.1787   , 4.4098   , 0.96819 ] # mm/s\n",
    "v_errs = np.array([0.013254, 0.0066389, 0.0037914, 0.0040645, 0.0078983, 0.014312])\n",
    "mGs    =          [1/2     , 1/2      , 1/2       , -1/2    , -1/2     , -1/2    ]\n",
    "mAs    =          [-1/2    , 1/2      , 3/2       , -3/2    , -1/2     , 1/2     ]\n",
    "qSigns =          [1, 1, -1, -1, 1, 1]\n",
    "parameters = np.array([vs, mGs, mAs, qSigns]).T\n",
    "# variables\n",
    "vars = sympy.symbols('muA, B, Vzz, Is')\n",
    "# system\n",
    "system = [energy_eq(*param_set, *vars) for param_set in parameters]\n",
    "# solve system for all combinations\n",
    "combinations = list(itertools.combinations(range(6), 4))\n",
    "subsystems = [[system[i] for i in combi] for combi in combinations]\n",
    "results = []\n",
    "for sys, combi in zip(subsystems, combinations):\n",
    "    solution = sympy.nonlinsolve(sys, vars)\n",
    "    results.append(list(*solution))\n",
    "\n",
    "# print results\n",
    "print(\"Eq.   \\t | \\tmuA [1/eV] \\t |   B [eV^2] \\t |   Vzz [eV^2]\\t |\\t Is [eV]\")\n",
    "for combi, sol in zip(combinations, results):\n",
    "    if len(sol) == 0:\n",
    "        print(f\"{combi}:\\tNo solution!\")\n",
    "    else:\n",
    "        print(f\"{combi}:\\t {sol[0]:.3E} \\t | {sol[1]:.3E} \\t | {sol[2]:.3E} \\t | {sol[3]:.3E} \\t\")"
   ]
  },
  {
   "cell_type": "code",
   "execution_count": null,
   "id": "f4fbbb89",
   "metadata": {},
   "outputs": [],
   "source": [
    "# results in actual units\n",
    "sol = np.array([r for r in results if r], dtype=float).T\n",
    "\n",
    "# yeah this is kinda cheaty but wth (dont do this)\n",
    "rel_v_err = 1 + np.abs(e0 * np.linalg.norm(v_errs) / (2 * c * np.mean(sol[3])))\n",
    "\n",
    "muA = np.mean(sol[0]) / bohr_mag\n",
    "muA_err = np.std(sol[0]) * rel_v_err / bohr_mag\n",
    "print(f\"muA = ({muA:.4f}+-{muA_err:.4f}) mu_Bohr\")\n",
    "B = np.mean(sol[1]) * (1.5 * bohr_mag) / 4.8077e-8\n",
    "B_err = np.std(sol[1]) * (1.5 * bohr_mag) * rel_v_err / 4.8077e-8\n",
    "print(f\"B = ({B:.4f}+-{B_err:.4f}) T\")\n",
    "Vzz = np.mean(sol[2]) * 1e-9\n",
    "Vzz_err = np.std(sol[2]) * 1e-9 * rel_v_err\n",
    "print(f\"Vzz = ({Vzz:.4f}+-{Vzz_err:.4f}) keV^3\")\n",
    "Is = np.mean(sol[3]) * 1e9\n",
    "Is_err = np.std(sol[3]) * 1e9 * rel_v_err\n",
    "print(f\"Is = ({Is:.4f}+-{Is_err:.4f}) neV\")"
   ]
  },
  {
   "cell_type": "markdown",
   "id": "2b82da99",
   "metadata": {},
   "source": [
    "### Thickness variation"
   ]
  },
  {
   "cell_type": "code",
   "execution_count": null,
   "id": "7916f367",
   "metadata": {},
   "outputs": [],
   "source": [
    "file_names = os.listdir(path_thickness_variation)\n",
    "ampl = np.zeros(len(file_names))\n",
    "ampl_error = np.zeros(len(file_names))\n",
    "\n",
    "for i, file in enumerate(file_names):\n",
    "    counts = np.loadtxt(path_thickness_variation + file, skiprows=1, comments=\"<\", dtype=int)\n",
    "    zInf = np.average(counts[:counts.size//4])\n",
    "    z0 = np.average(np.sort(counts)[:3])\n",
    "    zInf_error = np.std(counts[:counts.size//4])\n",
    "    z0_error = np.std(np.sort(counts)[:3])\n",
    "    ampl[i] = (zInf - z0) / zInf\n",
    "    ampl_error[i] = np.sqrt((z0_error / zInf) ** 2 + (z0 * zInf_error / (zInf ** 2)) ** 2)"
   ]
  },
  {
   "cell_type": "code",
   "execution_count": null,
   "id": "76a9488e",
   "metadata": {},
   "outputs": [],
   "source": [
    "def amplitude(d, fS, fA):\n",
    "    T = 0.606 * fA * d / 0.021\n",
    "    return fS * (1 - np.exp(- T / 2) * np.i0(T / 2))\n",
    "\n",
    "[d, gamma, gamma_err, _, _] = np.loadtxt(path_data + \"values_thickness.txt\").T\n",
    "[fS, fA], cov = optimize.curve_fit(amplitude, d, ampl, sigma=ampl_error)\n",
    "\n",
    "print(\"f_a =\", fA, \"+-\", cov[1,1])\n",
    "print(\"f_s =\", fS, \"+-\", cov[0,0])\n",
    "chi_2, p_val = get_chi_squared(amplitude(d, fS, fA), ampl, ampl_error, 2)\n",
    "print(\"chi^2 =\", chi_2, \", p-val =\", p_val)\n",
    "\n",
    "plt.figure(figsize=(10,7))\n",
    "# we assume the density error to be +-0.01 mg/cm^2\n",
    "d_error = np.full((6),0.01)\n",
    "plt.errorbar(d, ampl, xerr=d_error, yerr=ampl_error,\n",
    "             **marker_style, **error_style, label=\"Observed amplitudes $A_{norm}(d)$\")\n",
    "plt.plot(np.linspace(0,2.5), amplitude(np.linspace(0,2.5), fS, fA),\n",
    "         **fit_style, label=\"Amplitude Fit $A_{norm}(d)$\")\n",
    "\n",
    "plt.xlabel(\"$^{57}$Fe density d - (mg/cm$^2$)\")\n",
    "plt.xlim(0, 2.5)\n",
    "plt.ylabel(\"Normalized amplitude $A_{norm}(d)$\")\n",
    "plt.ylim(0, 0.6)\n",
    "\n",
    "plt.legend(fancybox=True,loc=\"lower right\")\n",
    "plt.grid()\n",
    "plt.savefig('thickness_variation_amplitude.pdf', pad_inches=0.1, bbox_inches=\"tight\")\n",
    "plt.show()"
   ]
  },
  {
   "cell_type": "code",
   "execution_count": null,
   "id": "52c2ea89",
   "metadata": {},
   "outputs": [],
   "source": [
    "def gamma_gem(d, gamma0, fA):\n",
    "    T = 0.606 * fA * d / 0.021\n",
    "    return 2 * gamma0 * ( 1 + 0.134 * T)\n",
    "\n",
    "end = -3\n",
    "[gamma0, fA], cov = optimize.curve_fit(gamma_gem, d[:end], gamma[:end])\n",
    "print(\"Gamma0 = \", gamma0 * 4.8077e-8, \"+-\", cov[0,0] * 4.8077e-8)\n",
    "print(\"fA = \", fA, \"+-\", cov[1,1])\n",
    "chi_2, p_val = get_chi_squared(gamma_gem(d[:end], gamma0, fA), gamma[:end], ampl_error[:end], 2)\n",
    "print(\"chi^2 =\", chi_2, \", p-val =\", p_val)\n",
    "print(\"T values: \", 0.606 * fA * d / 0.021)\n",
    "plt.figure(figsize=(10,7))\n",
    "# we assume the density error to be +-0.01 mg/cm^2\n",
    "d_error = np.full((6),0.01)\n",
    "plt.errorbar(d, gamma, xerr=d_error, yerr=gamma_err,\n",
    "             **marker_style, **error_style, label=\"Linewidths $\\Gamma_{m}(d, f_A)$\")\n",
    "plt.plot(np.linspace(0,2.5), gamma_gem(np.linspace(0,2.5), gamma0, fA),\n",
    "         **fit_style, label=\"Linewidth Fit for $\\Gamma_{m}(d)$\")\n",
    "\n",
    "plt.xlabel(\"Density of $^{57}$Fe $d$ (mg/cm$^2$)\")\n",
    "plt.xlim(0, 2.5)\n",
    "plt.ylabel(\"Observed linewidth $\\Gamma_{m}(d)$ (mm/s)\")\n",
    "plt.ylim(0.2, 0.7)\n",
    "\n",
    "plt.legend(fancybox=True,loc=\"lower right\")\n",
    "plt.grid()\n",
    "plt.savefig('thickness_variation_linfit.pdf', pad_inches=0.1, bbox_inches=\"tight\")\n",
    "plt.show()"
   ]
  }
 ],
 "metadata": {
  "kernelspec": {
   "display_name": "Python 3",
   "language": "python",
   "name": "python3"
  },
  "language_info": {
   "codemirror_mode": {
    "name": "ipython",
    "version": 3
   },
   "file_extension": ".py",
   "mimetype": "text/x-python",
   "name": "python",
   "nbconvert_exporter": "python",
   "pygments_lexer": "ipython3",
   "version": "3.13.7"
  }
 },
 "nbformat": 4,
 "nbformat_minor": 5
}
